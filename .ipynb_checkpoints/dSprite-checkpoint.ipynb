{
 "cells": [
  {
   "cell_type": "code",
   "execution_count": 3,
   "metadata": {},
   "outputs": [],
   "source": [
    "import numpy as np\n",
    "import os\n",
    "from __future__ import absolute_import\n",
    "from __future__ import division\n",
    "from __future__ import print_function\n",
    "from matplotlib import pyplot as plt\n",
    "import seaborn as sns\n",
    "\n",
    "%matplotlib inline\n",
    "sns.set_context('talk', font_scale=1.2, rc={'lines.linewidth': 1.5})"
   ]
  },
  {
   "cell_type": "code",
   "execution_count": 14,
   "metadata": {},
   "outputs": [],
   "source": [
    "file_dir = 'dsprites-dataset'\n",
    "file_name = 'dsprites_ndarray_co1sh3sc6or40x32y32_64x64.npz'\n",
    "path = os.path.join(os.getcwd(), file_dir, file_name)\n",
    "dataset_zip = np.load(path, encoding='latin1')\n",
    "imgs = dataset_zip['imgs']\n",
    "imgs_0 = imgs\n",
    "imgs = np.reshape(imgs, (737280, 64*64)) # to transform it back, just use np.reshape(imgs, (737280, 64, 64))\n",
    "latents_values = dataset_zip['latents_values']\n",
    "latents_classes = dataset_zip['latents_classes']\n",
    "metadata = dataset_zip['metadata'][()]"
   ]
  },
  {
   "cell_type": "code",
   "execution_count": 6,
   "metadata": {},
   "outputs": [],
   "source": [
    "def show_images_grid(imgs_, num_images=25):\n",
    "      ncols = int(np.ceil(num_images**0.5))\n",
    "      nrows = int(np.ceil(num_images / ncols))\n",
    "      _, axes = plt.subplots(ncols, nrows, figsize=(nrows * 3, ncols * 3))\n",
    "      axes = axes.flatten()\n",
    "\n",
    "      for ax_i, ax in enumerate(axes):\n",
    "        if ax_i < num_images:\n",
    "          ax.imshow(imgs_[ax_i], cmap='Greys_r',  interpolation='nearest')\n",
    "          ax.set_xticks([])\n",
    "          ax.set_yticks([])\n",
    "        else:\n",
    "          ax.axis('off')"
   ]
  },
  {
   "cell_type": "code",
   "execution_count": 23,
   "metadata": {},
   "outputs": [
    {
     "data": {
      "text/plain": [
       "<matplotlib.image.AxesImage at 0x7f485e0d9b70>"
      ]
     },
     "execution_count": 23,
     "metadata": {},
     "output_type": "execute_result"
    },
    {
     "data": {
      "image/png": "[encoded data removed]",
      "text/plain": [
       "<matplotlib.figure.Figure at 0x7f485dd6f7f0>"
      ]
     },
     "metadata": {},
     "output_type": "display_data"
    }
   ],
   "source": [
    "# test if the recovered images are the correct ones\n",
    "nth = 8000\n",
    "\n",
    "img_0 = imgs_0[nth,:,:]\n",
    "\n",
    "imgs_recovered = np.reshape(imgs, (737280, 64, 64))\n",
    "img = imgs_recovered[nth, :, :]\n",
    "\n",
    "\n",
    "plt.subplot('121')\n",
    "plt.imshow(img_0, cmap='Greys_r',  interpolation='nearest')\n",
    "plt.subplot('122')\n",
    "plt.imshow(img, cmap='Greys_r',  interpolation='nearest')"
   ]
  }
 ],
 "metadata": {
  "kernelspec": {
   "display_name": "Python 3",
   "language": "python",
   "name": "python3"
  },
  "language_info": {
   "codemirror_mode": {
    "name": "ipython",
    "version": 3
   },
   "file_extension": ".py",
   "mimetype": "text/x-python",
   "name": "python",
   "nbconvert_exporter": "python",
   "pygments_lexer": "ipython3",
   "version": "3.6.0"
  }
 },
 "nbformat": 4,
 "nbformat_minor": 2
}
