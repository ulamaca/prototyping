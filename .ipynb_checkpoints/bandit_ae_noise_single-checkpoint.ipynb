{
 "cells": [
  {
   "cell_type": "code",
   "execution_count": 2,
   "metadata": {
    "collapsed": true
   },
   "outputs": [],
   "source": [
    "import tensorflow as tf\n",
    "import numpy as np"
   ]
  },
  {
   "cell_type": "code",
   "execution_count": 60,
   "metadata": {
    "collapsed": true
   },
   "outputs": [],
   "source": [
    "dim_state = 2\n",
    "A = np.random.normal(size=(1, dim_state)).astype(np.float32)\n",
    "tf.reset_default_graph()\n",
    "sess = tf.Session()"
   ]
  },
  {
   "cell_type": "code",
   "execution_count": 114,
   "metadata": {
    "collapsed": false
   },
   "outputs": [
    {
     "name": "stdout",
     "output_type": "stream",
     "text": [
      "[[ 1.3995512  -0.45655552]]\n",
      "[[0.93795127 0.17066702]]\n"
     ]
    }
   ],
   "source": [
    "x = tf.placeholder(tf.float32, shape=[None] + [dim_state], name='x')\n",
    "# Test the random-generated matrix in tf\n",
    "cnst_rand = tf.constant(A)\n",
    "tensor_rand = tf.random_normal(shape=(1, dim_state))\n",
    "\n",
    "# 1 rand tensor vs cnst_rand tensor\n",
    "print(cnst_rand.eval(session=sess))\n",
    "print(tensor_rand.eval(session=sess))\n",
    "\n",
    "# 2 dynamic shape, non-ph tensor\n",
    "tensor_dyn = tf.random_normal(shape=tf.shape(x))"
   ]
  }
 ],
 "metadata": {
  "kernelspec": {
   "display_name": "Python 3",
   "language": "python",
   "name": "python3"
  },
  "language_info": {
   "codemirror_mode": {
    "name": "ipython",
    "version": 3
   },
   "file_extension": ".py",
   "mimetype": "text/x-python",
   "name": "python",
   "nbconvert_exporter": "python",
   "pygments_lexer": "ipython3",
   "version": "3.6.0"
  }
 },
 "nbformat": 4,
 "nbformat_minor": 2
}
