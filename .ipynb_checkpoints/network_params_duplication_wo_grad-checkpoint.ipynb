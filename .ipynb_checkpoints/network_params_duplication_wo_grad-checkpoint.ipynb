{
 "cells": [
  {
   "cell_type": "markdown",
   "metadata": {},
   "source": [
    "### Goal: to do residual prediction learning:\n",
    "1. I can do that as the DQN implementation as OpenAI baselines\n",
    "    - I can try to create another network with shared variables but stop gradients\n",
    "2. But I want to do it in a simpler way: just take out the current constant value and plug it back!\n",
    "    - 2.1 I can use placeholder to input it from the outside"
   ]
  },
  {
   "cell_type": "code",
   "execution_count": 2,
   "metadata": {},
   "outputs": [
    {
     "name": "stderr",
     "output_type": "stream",
     "text": [
      "/is/sg/klee/anaconda3/lib/python3.6/site-packages/h5py/__init__.py:34: FutureWarning: Conversion of the second argument of issubdtype from `float` to `np.floating` is deprecated. In future, it will be treated as `np.float64 == np.dtype(float).type`.\n",
      "  from ._conv import register_converters as _register_converters\n"
     ]
    }
   ],
   "source": [
    "import tensorflow as tf\n",
    "import numpy as np"
   ]
  },
  {
   "cell_type": "code",
   "execution_count": 31,
   "metadata": {},
   "outputs": [],
   "source": [
    "# try a simple linear model\n",
    "tf.reset_default_graph()\n",
    "x = tf.placeholder(shape=[None, 3], dtype=tf.float32)\n",
    "\n",
    "y = model_1(x, 'model_1')\n",
    "y_2 = model_1(x, 'model_2', reuse=True)\n",
    "\n",
    "init = tf.global_variables_initializer()"
   ]
  },
  {
   "cell_type": "code",
   "execution_count": 15,
   "metadata": {
    "collapsed": true
   },
   "outputs": [],
   "source": [
    "def model_1(x, name_scope, reuse=False):\n",
    "    with tf.variable_scope(name_scope, reuse=reuse):    \n",
    "        #np.random.seed(10)\n",
    "        c = np.random.normal(size=[3,2], ).astype(np.float32)\n",
    "        W = tf.Variable(initial_value=c)\n",
    "        y = tf.matmul(x, W)\n",
    "    return y"
   ]
  },
  {
   "cell_type": "code",
   "execution_count": 28,
   "metadata": {},
   "outputs": [
    {
     "name": "stdout",
     "output_type": "stream",
     "text": [
      "y = [[ 0.10479391 -1.4617453 ]]; y_2 = [[ 0.10479391 -1.4617453 ]]\n"
     ]
    }
   ],
   "source": [
    "feed_dict = {x: [[1,2,3]]}\n",
    "\n",
    "sess = tf.InteractiveSession()\n",
    "sess.run(init)\n",
    "y_ = y.eval(feed_dict=feed_dict) # I wanted to get this value in fixed\n",
    "y_2_ = y_2.eval(feed_dict=feed_dict)\n",
    "print('y = {}; y_2 = {}'.format(y_, y_2_))\n",
    "sess.close()"
   ]
  },
  {
   "cell_type": "code",
   "execution_count": 4,
   "metadata": {},
   "outputs": [],
   "source": [
    "def model_2(name_scope, reuse=False):\n",
    "    with tf.variable_scope(name_scope, reuse=reuse):\n",
    "        c = np.random.normal()\n",
    "        s = tf.Variable(c)\n",
    "        op = tf.assign_add(s,2)\n",
    "    return s, op"
   ]
  },
  {
   "cell_type": "code",
   "execution_count": 37,
   "metadata": {},
   "outputs": [],
   "source": [
    "def model_2():    \n",
    "    #c = np.random.normal()\n",
    "    s = tf.Variable(1)\n",
    "    op = tf.assign_add(s,2)\n",
    "    return s, op"
   ]
  },
  {
   "cell_type": "code",
   "execution_count": 38,
   "metadata": {},
   "outputs": [],
   "source": [
    "tf.reset_default_graph()\n",
    "name_scope = 's'\n",
    "with tf.variable_scope(name_scope):\n",
    "    s, op = model_2()\n",
    "\n",
    "with tf.variable_scope(name_scope, reuse=True):\n",
    "    s_1, _ = model_2()\n"
   ]
  },
  {
   "cell_type": "code",
   "execution_count": 44,
   "metadata": {},
   "outputs": [
    {
     "name": "stdout",
     "output_type": "stream",
     "text": [
      "before: 1\n",
      "before_1: 1\n",
      "after: 3\n",
      "after_1: 1\n"
     ]
    }
   ],
   "source": [
    "init = tf.global_variables_initializer()\n",
    "sess = tf.InteractiveSession()\n",
    "sess.run(init)\n",
    "print('before: {}'.format(s.eval()))\n",
    "print('before_1: {}'.format(s_1.eval()))\n",
    "sess.run(op)\n",
    "print('after: {}'.format(s.eval()))\n",
    "print('after_1: {}'.format(s_1.eval()))"
   ]
  },
  {
   "cell_type": "code",
   "execution_count": 45,
   "metadata": {},
   "outputs": [
    {
     "data": {
      "text/plain": [
       "[<tf.Variable 's/Variable:0' shape=() dtype=int32_ref>,\n",
       " <tf.Variable 's_1/Variable:0' shape=() dtype=int32_ref>]"
      ]
     },
     "execution_count": 45,
     "metadata": {},
     "output_type": "execute_result"
    }
   ],
   "source": [
    "tf.global_variables()"
   ]
  }
 ],
 "metadata": {
  "kernelspec": {
   "display_name": "Python 3",
   "language": "python",
   "name": "python3"
  },
  "language_info": {
   "codemirror_mode": {
    "name": "ipython",
    "version": 3
   },
   "file_extension": ".py",
   "mimetype": "text/x-python",
   "name": "python",
   "nbconvert_exporter": "python",
   "pygments_lexer": "ipython3",
   "version": "3.6.0"
  }
 },
 "nbformat": 4,
 "nbformat_minor": 2
}
