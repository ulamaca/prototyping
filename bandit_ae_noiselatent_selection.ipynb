{
 "cells": [
  {
   "cell_type": "code",
   "execution_count": 2,
   "metadata": {
    "collapsed": false
   },
   "outputs": [
    {
     "name": "stderr",
     "output_type": "stream",
     "text": [
      "/is/sg/klee/anaconda3/lib/python3.6/site-packages/h5py/__init__.py:34: FutureWarning: Conversion of the second argument of issubdtype from `float` to `np.floating` is deprecated. In future, it will be treated as `np.float64 == np.dtype(float).type`.\n",
      "  from ._conv import register_converters as _register_converters\n"
     ]
    }
   ],
   "source": [
    "import numpy as np\n",
    "import tensorflow as tf"
   ]
  },
  {
   "cell_type": "code",
   "execution_count": 169,
   "metadata": {
    "collapsed": false
   },
   "outputs": [
    {
     "name": "stdout",
     "output_type": "stream",
     "text": [
      "[[0]\n",
      " [1]\n",
      " [4]]\n",
      "[0. 1. 0. 1. 0.]\n"
     ]
    }
   ],
   "source": [
    "dim_z = 5\n",
    "z = np.random.normal(size=(5))\n",
    "\n",
    "tf.reset_default_graph()\n",
    "\n",
    "idxs_feed = [1,3,-1,-1,6]\n",
    "\n",
    "idxs_ph = tf.placeholder(tf.int32, shape=dim_z, name='indexes')    \n",
    "idxs_one_hot = tf.one_hot(idxs_ph, depth=dim_z)        \n",
    "feed_dict = {idxs_ph:idxs_feed}\n",
    "\n",
    "tmp = tf.not_equal(idxs_ph, -1) \n",
    "idx_pos = tf.where(tmp)\n",
    "beauty = tf.gather_nd(idxs_one_hot, idx_pos) \n",
    "beauty = tf.reduce_sum(beauty, axis=0)\n",
    "\n",
    "with tf.Session() as sess:    \n",
    "    print( sess.run(idx_pos, feed_dict=feed_dict) )    \n",
    "    print( sess.run(beauty, feed_dict=feed_dict) )    \n",
    "        \n",
    "    #print(z)"
   ]
  },
  {
   "cell_type": "code",
   "execution_count": 194,
   "metadata": {
    "collapsed": false
   },
   "outputs": [
    {
     "name": "stdout",
     "output_type": "stream",
     "text": [
      "before: [0 0 0 0 0]\n",
      "after: [0 0 1 1 0]\n",
      "cond: [False False  True  True False]\n",
      "[0. 0. 1. 1. 0.]\n"
     ]
    }
   ],
   "source": [
    "# Take out negative dimension and assign values to them\n",
    "v = tf.Variable([0]*dim_z)\n",
    "init = tf.global_variables_initializer()\n",
    "cond_neg = tf.equal(idxs_ph, -1) \n",
    "v_ = tf.ones_like(v)\n",
    "cond_assign = v.assign(tf.where(cond_neg, v_, v))\n",
    "cond_neg_digit = tf.cast(cond_neg, tf.float32)\n",
    "\n",
    "with tf.Session() as sess:\n",
    "    sess.run(init)    \n",
    "    a = sess.run(v)\n",
    "    print('before: {}'.format(a))\n",
    "    b = sess.run(cond_assign ,feed_dict=feed_dict)\n",
    "    print('after: {}'.format(b))\n",
    "    c = sess.run(cond_neg ,feed_dict=feed_dict)\n",
    "    print('cond: {}'.format(c))\n",
    "    d = sess.run(cond_neg_digit, feed_dict=feed_dict)\n",
    "    print(d)\n",
    "    \n"
   ]
  },
  {
   "cell_type": "markdown",
   "metadata": {},
   "source": [
    "- reference: https://stackoverflow.com/questions/39045797/conditional-assignment-of-tensor-values-in-tensorflow"
   ]
  },
  {
   "cell_type": "markdown",
   "metadata": {},
   "source": [
    "### Prototype"
   ]
  },
  {
   "cell_type": "code",
   "execution_count": 11,
   "metadata": {
    "collapsed": false
   },
   "outputs": [
    {
     "name": "stdout",
     "output_type": "stream",
     "text": [
      "[1. 2. 3. 4. 5. 0. 0. 0.]\n",
      "(8,)\n"
     ]
    }
   ],
   "source": [
    "import tensorflow as tf\n",
    "# Testing the concatination\n",
    "tf.reset_default_graph()\n",
    "v0 = [1,2,3,4,5]\n",
    "v2aug = tf.constant(v0, dtype=tf.float32)\n",
    "i = 1\n",
    "l = len(v0)\n",
    "with tf.Session() as sess:\n",
    "    v2aug[:i+1]\n",
    "    d_rem = l - (i+1)\n",
    "    zeros = tf.zeros(shape=d_rem)    \n",
    "    v2 = tf.concat([v2aug, zeros], axis=0)\n",
    "    print(sess.run(v2))\n",
    "    print(v2.get_shape())"
   ]
  },
  {
   "cell_type": "code",
   "execution_count": 214,
   "metadata": {
    "collapsed": false
   },
   "outputs": [
    {
     "name": "stdout",
     "output_type": "stream",
     "text": [
      "[1. 2. 3. 4. 5.]\n"
     ]
    }
   ],
   "source": [
    "tf.reset_default_graph()\n",
    "v0 = [1,2,3,4,5]\n",
    "v2aug = tf.constant(v0, dtype=tf.float32)\n",
    "i = 1\n",
    "l = len(v0)\n",
    "with tf.Session() as sess:\n",
    "    x = sess.run(v2aug)\n",
    "    print(x)\n",
    "    \n",
    "    "
   ]
  }
 ],
 "metadata": {
  "kernelspec": {
   "display_name": "Python 3",
   "language": "python",
   "name": "python3"
  },
  "language_info": {
   "codemirror_mode": {
    "name": "ipython",
    "version": 3
   },
   "file_extension": ".py",
   "mimetype": "text/x-python",
   "name": "python",
   "nbconvert_exporter": "python",
   "pygments_lexer": "ipython3",
   "version": "3.6.0"
  }
 },
 "nbformat": 4,
 "nbformat_minor": 2
}
