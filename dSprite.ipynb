{
 "cells": [
  {
   "cell_type": "code",
   "execution_count": 1,
   "metadata": {},
   "outputs": [],
   "source": [
    "import numpy as np\n",
    "import os\n",
    "from __future__ import absolute_import\n",
    "from __future__ import division\n",
    "from __future__ import print_function\n",
    "from matplotlib import pyplot as plt\n",
    "import seaborn as sns\n",
    "\n",
    "%matplotlib inline\n",
    "sns.set_context('talk', font_scale=1.2, rc={'lines.linewidth': 1.5})"
   ]
  },
  {
   "cell_type": "code",
   "execution_count": 2,
   "metadata": {},
   "outputs": [],
   "source": [
    "file_dir = 'dsprites-dataset'\n",
    "file_name = 'dsprites_ndarray_co1sh3sc6or40x32y32_64x64.npz'\n",
    "path = os.path.join(os.getcwd(), file_dir, file_name)\n",
    "dataset_zip = np.load(path, encoding='latin1')\n",
    "imgs = dataset_zip['imgs']\n",
    "imgs_0 = imgs\n",
    "imgs = np.reshape(imgs, (737280, 64*64)) # to transform it back, just use np.reshape(imgs, (737280, 64, 64))\n",
    "latents_values = dataset_zip['latents_values']\n",
    "latents_classes = dataset_zip['latents_classes']\n",
    "metadata = dataset_zip['metadata'][()]"
   ]
  },
  {
   "cell_type": "code",
   "execution_count": 102,
   "metadata": {},
   "outputs": [
    {
     "data": {
      "text/plain": [
       "<matplotlib.image.AxesImage at 0x7f485a4d8358>"
      ]
     },
     "execution_count": 102,
     "metadata": {},
     "output_type": "execute_result"
    },
    {
     "data": {
      "image/png": "[encoded data removed]",
      "text/plain": [
       "<matplotlib.figure.Figure at 0x7f4856d23cc0>"
      ]
     },
     "metadata": {},
     "output_type": "display_data"
    }
   ],
   "source": [
    "# test if the recovered images are the correct ones\n",
    "nth = np.random.randint(0,70000)\n",
    "nth = 14340\n",
    "\n",
    "img_0 = imgs_0[nth]\n",
    "\n",
    "imgs_recovered = np.reshape(imgs, (737280, 64, 64))\n",
    "img = imgs_recovered[nth]\n",
    "\n",
    "plt.subplot('121')\n",
    "plt.imshow(img_0, cmap='Greys_r',  interpolation='nearest')\n",
    "plt.subplot('122')\n",
    "plt.imshow(img, cmap='Greys_r',  interpolation='nearest')"
   ]
  },
  {
   "cell_type": "markdown",
   "metadata": {},
   "source": [
    "### Test with deepmind's code"
   ]
  },
  {
   "cell_type": "code",
   "execution_count": 3,
   "metadata": {},
   "outputs": [],
   "source": [
    "# Define number of values per latents and functions to convert to indices\n",
    "latents_sizes = metadata['latents_sizes']\n",
    "latents_bases = np.concatenate((latents_sizes[::-1].cumprod()[::-1][1:],\n",
    "                                np.array([1,])))\n",
    "\n",
    "def latent_to_index(latents):\n",
    "      return np.dot(latents, latents_bases).astype(int)\n",
    "\n",
    "\n",
    "def sample_latent(size=1):\n",
    "      samples = np.zeros((size, latents_sizes.size))\n",
    "        \n",
    "      for lat_i, lat_size in enumerate(latents_sizes):\n",
    "        samples[:, lat_i] = np.random.randint(lat_size, size=size)\n",
    "\n",
    "      return samples"
   ]
  },
  {
   "cell_type": "code",
   "execution_count": 4,
   "metadata": {},
   "outputs": [],
   "source": [
    "# Helper function to show images\n",
    "def show_images_grid(imgs_, num_images=25):\n",
    "      ncols = int(np.ceil(num_images**0.5))\n",
    "      nrows = int(np.ceil(num_images / ncols))\n",
    "      _, axes = plt.subplots(ncols, nrows, figsize=(nrows * 3, ncols * 3))\n",
    "      axes = axes.flatten()\n",
    "\n",
    "      for ax_i, ax in enumerate(axes):\n",
    "        if ax_i < num_images:\n",
    "          ax.imshow(imgs_[ax_i], cmap='Greys_r',  interpolation='nearest')          \n",
    "          ax.set_xticks([])\n",
    "          ax.set_yticks([])\n",
    "        else:\n",
    "          ax.axis('off')\n",
    "\n",
    "def show_density(imgs):\n",
    "      _, ax = plt.subplots()\n",
    "      ax.imshow(imgs.mean(axis=0), interpolation='nearest', cmap='Greys_r')\n",
    "      ax.grid('off')\n",
    "      ax.set_xticks([])\n",
    "      ax.set_yticks([])"
   ]
  },
  {
   "cell_type": "code",
   "execution_count": 89,
   "metadata": {},
   "outputs": [
    {
     "data": {
      "image/png": "[encoded data removed]",
      "text/plain": [
       "<matplotlib.figure.Figure at 0x7f4856d06358>"
      ]
     },
     "metadata": {},
     "output_type": "display_data"
    }
   ],
   "source": [
    "# Sample latents randomly\n",
    "latents_sampled = sample_latent(size=5000)\n",
    "\n",
    "# Test if the recovered images are the right ones\n",
    "I = imgs_recovered\n",
    "\n",
    "# Select images\n",
    "indices_sampled = latent_to_index(latents_sampled)\n",
    "imgs_sampled = I[indices_sampled]\n",
    "\n",
    "# Show images\n",
    "show_images_grid(imgs_sampled, 4)"
   ]
  }
 ],
 "metadata": {
  "kernelspec": {
   "display_name": "Python 3",
   "language": "python",
   "name": "python3"
  },
  "language_info": {
   "codemirror_mode": {
    "name": "ipython",
    "version": 3
   },
   "file_extension": ".py",
   "mimetype": "text/x-python",
   "name": "python",
   "nbconvert_exporter": "python",
   "pygments_lexer": "ipython3",
   "version": "3.6.0"
  }
 },
 "nbformat": 4,
 "nbformat_minor": 2
}
